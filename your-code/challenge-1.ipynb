{
 "cells": [
  {
   "cell_type": "markdown",
   "metadata": {
    "toc": true
   },
   "source": [
    "<h1>Table of Contents<span class=\"tocSkip\"></span></h1>\n",
    "<div class=\"toc\"><ul class=\"toc-item\"><li><span><a href=\"#Challenge-1\" data-toc-modified-id=\"Challenge-1-1\"><span class=\"toc-item-num\">1&nbsp;&nbsp;</span>Challenge 1</a></span><ul class=\"toc-item\"><li><ul class=\"toc-item\"><li><span><a href=\"#Import-all-required-libraries\" data-toc-modified-id=\"Import-all-required-libraries-1.0.1\"><span class=\"toc-item-num\">1.0.1&nbsp;&nbsp;</span>Import all required libraries</a></span></li><li><span><a href=\"#Import-data-set\" data-toc-modified-id=\"Import-data-set-1.0.2\"><span class=\"toc-item-num\">1.0.2&nbsp;&nbsp;</span>Import data set</a></span></li><li><span><a href=\"#Print-first-10-rows-of-pokemon\" data-toc-modified-id=\"Print-first-10-rows-of-pokemon-1.0.3\"><span class=\"toc-item-num\">1.0.3&nbsp;&nbsp;</span>Print first 10 rows of <code>pokemon</code></a></span></li><li><span><a href=\"#Obtain-the-distinct-values-across-Type-1-and-Type-2\" data-toc-modified-id=\"Obtain-the-distinct-values-across-Type-1-and-Type-2-1.0.4\"><span class=\"toc-item-num\">1.0.4&nbsp;&nbsp;</span>Obtain the distinct values across <code>Type 1</code> and <code>Type 2</code></a></span></li><li><span><a href=\"#Cleanup-Name-that-contain-&quot;Mega&quot;\" data-toc-modified-id=\"Cleanup-Name-that-contain-&quot;Mega&quot;-1.0.5\"><span class=\"toc-item-num\">1.0.5&nbsp;&nbsp;</span>Cleanup <code>Name</code> that contain \"Mega\"</a></span></li><li><span><a href=\"#Create-a-new-column-called-A/D-Ratio-whose-value-equals-to-Attack-devided-by-Defense\" data-toc-modified-id=\"Create-a-new-column-called-A/D-Ratio-whose-value-equals-to-Attack-devided-by-Defense-1.0.6\"><span class=\"toc-item-num\">1.0.6&nbsp;&nbsp;</span>Create a new column called <code>A/D Ratio</code> whose value equals to <code>Attack</code> devided by <code>Defense</code></a></span></li><li><span><a href=\"#Identify-the-pokemon-with-the-highest-A/D-Ratio\" data-toc-modified-id=\"Identify-the-pokemon-with-the-highest-A/D-Ratio-1.0.7\"><span class=\"toc-item-num\">1.0.7&nbsp;&nbsp;</span>Identify the pokemon with the highest <code>A/D Ratio</code></a></span></li><li><span><a href=\"#Identify-the-pokemon-with-the-lowest-A/D-Ratio\" data-toc-modified-id=\"Identify-the-pokemon-with-the-lowest-A/D-Ratio-1.0.8\"><span class=\"toc-item-num\">1.0.8&nbsp;&nbsp;</span>Identify the pokemon with the lowest A/D Ratio</a></span></li><li><span><a href=\"#Create-a-new-column-called-Combo-Type-whose-value-combines-Type-1-and-Type-2.\" data-toc-modified-id=\"Create-a-new-column-called-Combo-Type-whose-value-combines-Type-1-and-Type-2.-1.0.9\"><span class=\"toc-item-num\">1.0.9&nbsp;&nbsp;</span>Create a new column called <code>Combo Type</code> whose value combines <code>Type 1</code> and <code>Type 2</code>.</a></span></li><li><span><a href=\"#Identify-the-pokemons-whose-A/D-Ratio-are-among-the-top-5\" data-toc-modified-id=\"Identify-the-pokemons-whose-A/D-Ratio-are-among-the-top-5-1.0.10\"><span class=\"toc-item-num\">1.0.10&nbsp;&nbsp;</span>Identify the pokemons whose <code>A/D Ratio</code> are among the top 5</a></span></li><li><span><a href=\"#For-the-5-pokemons-printed-above,-aggregate-Combo-Type-and-use-a-list-to-store-the-unique-values.\" data-toc-modified-id=\"For-the-5-pokemons-printed-above,-aggregate-Combo-Type-and-use-a-list-to-store-the-unique-values.-1.0.11\"><span class=\"toc-item-num\">1.0.11&nbsp;&nbsp;</span>For the 5 pokemons printed above, aggregate <code>Combo Type</code> and use a list to store the unique values.</a></span></li><li><span><a href=\"#For-each-of-the-Combo-Type-values-obtained-from-the-previous-question,-calculate-the-mean-scores-of-all-numeric-fields-across-all-pokemons.\" data-toc-modified-id=\"For-each-of-the-Combo-Type-values-obtained-from-the-previous-question,-calculate-the-mean-scores-of-all-numeric-fields-across-all-pokemons.-1.0.12\"><span class=\"toc-item-num\">1.0.12&nbsp;&nbsp;</span>For each of the <code>Combo Type</code> values obtained from the previous question, calculate the mean scores of all numeric fields across all pokemons.</a></span></li></ul></li></ul></li></ul></div>"
   ]
  },
  {
   "cell_type": "markdown",
   "metadata": {},
   "source": [
    "# Challenge 1\n",
    "\n",
    "In this challenge you will be working on **pokemons**. You will answer a series of questions in order to practice dataframe calculation, aggregation, and transformation.\n",
    "\n",
    "![Pokemon](pokemon.jpg)\n",
    "\n",
    "Follow the instructions below and enter your code.\n",
    "\n",
    "### Import all required libraries"
   ]
  },
  {
   "cell_type": "code",
   "execution_count": 166,
   "metadata": {
    "ExecuteTime": {
     "end_time": "2020-07-26T20:50:25.173616Z",
     "start_time": "2020-07-26T20:50:25.171610Z"
    }
   },
   "outputs": [],
   "source": [
    "# import libraries\n",
    "import pandas as pd\n",
    "import numpy as np"
   ]
  },
  {
   "cell_type": "markdown",
   "metadata": {},
   "source": [
    "### Import data set\n",
    "\n",
    "Import data set `Pokemon.csv` from the `your-code` directory of this lab. Read the data into a dataframe called `pokemon`.\n",
    "\n",
    "*Data set attributed to [Alberto Barradas](https://www.kaggle.com/abcsds/pokemon/)*"
   ]
  },
  {
   "cell_type": "code",
   "execution_count": 167,
   "metadata": {
    "ExecuteTime": {
     "end_time": "2020-07-26T20:50:25.806580Z",
     "start_time": "2020-07-26T20:50:25.801071Z"
    }
   },
   "outputs": [],
   "source": [
    "# import data set\n",
    "pokemon = pd.read_csv(\"Pokemon.csv\")\n"
   ]
  },
  {
   "cell_type": "markdown",
   "metadata": {},
   "source": [
    "### Print first 10 rows of `pokemon`"
   ]
  },
  {
   "cell_type": "code",
   "execution_count": 105,
   "metadata": {
    "ExecuteTime": {
     "end_time": "2020-07-26T20:25:21.062882Z",
     "start_time": "2020-07-26T20:25:21.051657Z"
    }
   },
   "outputs": [
    {
     "data": {
      "text/html": [
       "<div>\n",
       "<style scoped>\n",
       "    .dataframe tbody tr th:only-of-type {\n",
       "        vertical-align: middle;\n",
       "    }\n",
       "\n",
       "    .dataframe tbody tr th {\n",
       "        vertical-align: top;\n",
       "    }\n",
       "\n",
       "    .dataframe thead th {\n",
       "        text-align: right;\n",
       "    }\n",
       "</style>\n",
       "<table border=\"1\" class=\"dataframe\">\n",
       "  <thead>\n",
       "    <tr style=\"text-align: right;\">\n",
       "      <th></th>\n",
       "      <th>#</th>\n",
       "      <th>Name</th>\n",
       "      <th>Type 1</th>\n",
       "      <th>Type 2</th>\n",
       "      <th>Total</th>\n",
       "      <th>HP</th>\n",
       "      <th>Attack</th>\n",
       "      <th>Defense</th>\n",
       "      <th>Sp. Atk</th>\n",
       "      <th>Sp. Def</th>\n",
       "      <th>Speed</th>\n",
       "      <th>Generation</th>\n",
       "      <th>Legendary</th>\n",
       "    </tr>\n",
       "  </thead>\n",
       "  <tbody>\n",
       "    <tr>\n",
       "      <th>0</th>\n",
       "      <td>1</td>\n",
       "      <td>Bulbasaur</td>\n",
       "      <td>Grass</td>\n",
       "      <td>Poison</td>\n",
       "      <td>318</td>\n",
       "      <td>45</td>\n",
       "      <td>49</td>\n",
       "      <td>49</td>\n",
       "      <td>65</td>\n",
       "      <td>65</td>\n",
       "      <td>45</td>\n",
       "      <td>1</td>\n",
       "      <td>False</td>\n",
       "    </tr>\n",
       "    <tr>\n",
       "      <th>1</th>\n",
       "      <td>2</td>\n",
       "      <td>Ivysaur</td>\n",
       "      <td>Grass</td>\n",
       "      <td>Poison</td>\n",
       "      <td>405</td>\n",
       "      <td>60</td>\n",
       "      <td>62</td>\n",
       "      <td>63</td>\n",
       "      <td>80</td>\n",
       "      <td>80</td>\n",
       "      <td>60</td>\n",
       "      <td>1</td>\n",
       "      <td>False</td>\n",
       "    </tr>\n",
       "    <tr>\n",
       "      <th>2</th>\n",
       "      <td>3</td>\n",
       "      <td>Venusaur</td>\n",
       "      <td>Grass</td>\n",
       "      <td>Poison</td>\n",
       "      <td>525</td>\n",
       "      <td>80</td>\n",
       "      <td>82</td>\n",
       "      <td>83</td>\n",
       "      <td>100</td>\n",
       "      <td>100</td>\n",
       "      <td>80</td>\n",
       "      <td>1</td>\n",
       "      <td>False</td>\n",
       "    </tr>\n",
       "    <tr>\n",
       "      <th>3</th>\n",
       "      <td>3</td>\n",
       "      <td>VenusaurMega Venusaur</td>\n",
       "      <td>Grass</td>\n",
       "      <td>Poison</td>\n",
       "      <td>625</td>\n",
       "      <td>80</td>\n",
       "      <td>100</td>\n",
       "      <td>123</td>\n",
       "      <td>122</td>\n",
       "      <td>120</td>\n",
       "      <td>80</td>\n",
       "      <td>1</td>\n",
       "      <td>False</td>\n",
       "    </tr>\n",
       "    <tr>\n",
       "      <th>4</th>\n",
       "      <td>4</td>\n",
       "      <td>Charmander</td>\n",
       "      <td>Fire</td>\n",
       "      <td>NaN</td>\n",
       "      <td>309</td>\n",
       "      <td>39</td>\n",
       "      <td>52</td>\n",
       "      <td>43</td>\n",
       "      <td>60</td>\n",
       "      <td>50</td>\n",
       "      <td>65</td>\n",
       "      <td>1</td>\n",
       "      <td>False</td>\n",
       "    </tr>\n",
       "    <tr>\n",
       "      <th>5</th>\n",
       "      <td>5</td>\n",
       "      <td>Charmeleon</td>\n",
       "      <td>Fire</td>\n",
       "      <td>NaN</td>\n",
       "      <td>405</td>\n",
       "      <td>58</td>\n",
       "      <td>64</td>\n",
       "      <td>58</td>\n",
       "      <td>80</td>\n",
       "      <td>65</td>\n",
       "      <td>80</td>\n",
       "      <td>1</td>\n",
       "      <td>False</td>\n",
       "    </tr>\n",
       "    <tr>\n",
       "      <th>6</th>\n",
       "      <td>6</td>\n",
       "      <td>Charizard</td>\n",
       "      <td>Fire</td>\n",
       "      <td>Flying</td>\n",
       "      <td>534</td>\n",
       "      <td>78</td>\n",
       "      <td>84</td>\n",
       "      <td>78</td>\n",
       "      <td>109</td>\n",
       "      <td>85</td>\n",
       "      <td>100</td>\n",
       "      <td>1</td>\n",
       "      <td>False</td>\n",
       "    </tr>\n",
       "    <tr>\n",
       "      <th>7</th>\n",
       "      <td>6</td>\n",
       "      <td>CharizardMega Charizard X</td>\n",
       "      <td>Fire</td>\n",
       "      <td>Dragon</td>\n",
       "      <td>634</td>\n",
       "      <td>78</td>\n",
       "      <td>130</td>\n",
       "      <td>111</td>\n",
       "      <td>130</td>\n",
       "      <td>85</td>\n",
       "      <td>100</td>\n",
       "      <td>1</td>\n",
       "      <td>False</td>\n",
       "    </tr>\n",
       "    <tr>\n",
       "      <th>8</th>\n",
       "      <td>6</td>\n",
       "      <td>CharizardMega Charizard Y</td>\n",
       "      <td>Fire</td>\n",
       "      <td>Flying</td>\n",
       "      <td>634</td>\n",
       "      <td>78</td>\n",
       "      <td>104</td>\n",
       "      <td>78</td>\n",
       "      <td>159</td>\n",
       "      <td>115</td>\n",
       "      <td>100</td>\n",
       "      <td>1</td>\n",
       "      <td>False</td>\n",
       "    </tr>\n",
       "    <tr>\n",
       "      <th>9</th>\n",
       "      <td>7</td>\n",
       "      <td>Squirtle</td>\n",
       "      <td>Water</td>\n",
       "      <td>NaN</td>\n",
       "      <td>314</td>\n",
       "      <td>44</td>\n",
       "      <td>48</td>\n",
       "      <td>65</td>\n",
       "      <td>50</td>\n",
       "      <td>64</td>\n",
       "      <td>43</td>\n",
       "      <td>1</td>\n",
       "      <td>False</td>\n",
       "    </tr>\n",
       "  </tbody>\n",
       "</table>\n",
       "</div>"
      ],
      "text/plain": [
       "   #                       Name Type 1  Type 2  Total  HP  Attack  Defense  \\\n",
       "0  1                  Bulbasaur  Grass  Poison    318  45      49       49   \n",
       "1  2                    Ivysaur  Grass  Poison    405  60      62       63   \n",
       "2  3                   Venusaur  Grass  Poison    525  80      82       83   \n",
       "3  3      VenusaurMega Venusaur  Grass  Poison    625  80     100      123   \n",
       "4  4                 Charmander   Fire     NaN    309  39      52       43   \n",
       "5  5                 Charmeleon   Fire     NaN    405  58      64       58   \n",
       "6  6                  Charizard   Fire  Flying    534  78      84       78   \n",
       "7  6  CharizardMega Charizard X   Fire  Dragon    634  78     130      111   \n",
       "8  6  CharizardMega Charizard Y   Fire  Flying    634  78     104       78   \n",
       "9  7                   Squirtle  Water     NaN    314  44      48       65   \n",
       "\n",
       "   Sp. Atk  Sp. Def  Speed  Generation  Legendary  \n",
       "0       65       65     45           1      False  \n",
       "1       80       80     60           1      False  \n",
       "2      100      100     80           1      False  \n",
       "3      122      120     80           1      False  \n",
       "4       60       50     65           1      False  \n",
       "5       80       65     80           1      False  \n",
       "6      109       85    100           1      False  \n",
       "7      130       85    100           1      False  \n",
       "8      159      115    100           1      False  \n",
       "9       50       64     43           1      False  "
      ]
     },
     "execution_count": 105,
     "metadata": {},
     "output_type": "execute_result"
    }
   ],
   "source": [
    "# enter your code here\n",
    "pokemon.head(10)"
   ]
  },
  {
   "cell_type": "markdown",
   "metadata": {},
   "source": [
    "When you look at a data set, you often wonder what each column means. Some open-source data sets provide descriptions of the data set. In many cases, data descriptions are extremely useful for data analysts to perform work efficiently and successfully.\n",
    "\n",
    "For the `Pokemon.csv` data set, fortunately, the owner provided descriptions which you can see [here](https://www.kaggle.com/abcsds/pokemon/home). For your convenience, we are including the descriptions below. Read the descriptions and understand what each column means. This knowledge is helpful in your work with the data.\n",
    "\n",
    "| Column | Description |\n",
    "| --- | --- |\n",
    "| # | ID for each pokemon |\n",
    "| Name | Name of each pokemon |\n",
    "| Type 1 | Each pokemon has a type, this determines weakness/resistance to attacks |\n",
    "| Type 2 | Some pokemon are dual type and have 2 |\n",
    "| Total | A general guide to how strong a pokemon is |\n",
    "| HP | Hit points, or health, defines how much damage a pokemon can withstand before fainting |\n",
    "| Attack | The base modifier for normal attacks (eg. Scratch, Punch) |\n",
    "| Defense | The base damage resistance against normal attacks |\n",
    "| SP Atk | Special attack, the base modifier for special attacks (e.g. fire blast, bubble beam) |\n",
    "| SP Def | The base damage resistance against special attacks |\n",
    "| Speed | Determines which pokemon attacks first each round |\n",
    "| Generation | Number of generation |\n",
    "| Legendary | True if Legendary Pokemon False if not |"
   ]
  },
  {
   "cell_type": "markdown",
   "metadata": {},
   "source": [
    "### Obtain the distinct values across `Type 1` and `Type 2`\n",
    "\n",
    "Extract all the values in `Type 1` and `Type 2`. Then create an array containing the distinct values across both fields."
   ]
  },
  {
   "cell_type": "code",
   "execution_count": 92,
   "metadata": {
    "ExecuteTime": {
     "end_time": "2020-07-26T20:22:28.100320Z",
     "start_time": "2020-07-26T20:22:28.096482Z"
    }
   },
   "outputs": [
    {
     "name": "stdout",
     "output_type": "stream",
     "text": [
      "[nan, 'Fairy', 'Electric', 'Grass', 'Water', 'Poison', 'Fire', 'Ground', 'Bug', 'Steel', 'Fighting', 'Dragon', 'Ghost', 'Normal', 'Psychic', 'Dark', 'Flying', 'Rock', 'Ice']\n"
     ]
    }
   ],
   "source": [
    "# yo había hecho esto pero vi que no era correcto pq dejaba modificado Type 2 para siempre\n",
    "\n",
    "types = list(set(pokemon[\"Type 1\"]))\n",
    "type2 = list(set(pokemon[\"Type 2\"]))\n",
    "#print(type1)\n",
    "\n",
    "for i in types:\n",
    "    if i not in type2:\n",
    "        type2.append(i)\n",
    "        \n",
    "tipines = type2\n",
    "print(tipines)"
   ]
  },
  {
   "cell_type": "code",
   "execution_count": 168,
   "metadata": {
    "ExecuteTime": {
     "end_time": "2020-07-26T20:50:31.912715Z",
     "start_time": "2020-07-26T20:50:31.906382Z"
    }
   },
   "outputs": [
    {
     "data": {
      "text/plain": [
       "{'BugGround',\n",
       " 'DarkGhost',\n",
       " 'DragonFire',\n",
       " 'ElectricFighting',\n",
       " 'FairySteel',\n",
       " 'FightingIce',\n",
       " 'FireFlying',\n",
       " 'FlyingNormal',\n",
       " 'GhostWater',\n",
       " 'GrassPoison',\n",
       " 'GroundPsychic',\n",
       " 'IceElectric',\n",
       " 'NormalFairy',\n",
       " 'PoisonGrass',\n",
       " 'PsychicRock',\n",
       " 'RockDark',\n",
       " 'SteelBug',\n",
       " 'WaterDragon'}"
      ]
     },
     "execution_count": 168,
     "metadata": {},
     "output_type": "execute_result"
    }
   ],
   "source": [
    "# fui a ver cómo lo había hecho Lola para conseguir coger sólo los valores de cada columna e unirlos en otra list\n",
    "types1 = np.array(pd.unique(pokemon['Type 1']))\n",
    "types2 = np.array(pd.unique(pokemon['Type 2'].dropna(how='any')))\n",
    "\n",
    "#Esta parte ya la hecho diferente a como lo ha hecho Lola, quiero decir que me he espavilado por mi parte :)\n",
    "types = set(types1 + types2)\n",
    "len(types)\n",
    "types"
   ]
  },
  {
   "cell_type": "markdown",
   "metadata": {},
   "source": [
    "Dejo aquí una mini explicación de lo que yo había intentado en paralelo hacer para resolver la primera parte del ejercicio pero que no había conseguido para que me sirva para aprender de ello"
   ]
  },
  {
   "cell_type": "code",
   "execution_count": 169,
   "metadata": {
    "ExecuteTime": {
     "end_time": "2020-07-26T20:50:33.273680Z",
     "start_time": "2020-07-26T20:50:33.270400Z"
    },
    "scrolled": true
   },
   "outputs": [
    {
     "data": {
      "text/plain": [
       "array(['Poison', 'Flying', 'Dragon', 'Ground', 'Fairy', 'Grass',\n",
       "       'Fighting', 'Psychic', 'Steel', 'Ice', 'Rock', 'Dark', 'Water',\n",
       "       'Electric', 'Fire', 'Ghost', 'Bug', 'Normal'], dtype=object)"
      ]
     },
     "execution_count": 169,
     "metadata": {},
     "output_type": "execute_result"
    }
   ],
   "source": [
    "types2"
   ]
  },
  {
   "cell_type": "code",
   "execution_count": 170,
   "metadata": {
    "ExecuteTime": {
     "end_time": "2020-07-26T20:50:33.919515Z",
     "start_time": "2020-07-26T20:50:33.916142Z"
    },
    "scrolled": true
   },
   "outputs": [
    {
     "data": {
      "text/plain": [
       "array([False, False, False, False, False, False, False, False, False,\n",
       "       False, False, False, False, False, False, False, False, False])"
      ]
     },
     "execution_count": 170,
     "metadata": {},
     "output_type": "execute_result"
    }
   ],
   "source": [
    "#Vamos a comprobar si contienen los mismos elementos\n",
    "types1 == types2"
   ]
  },
  {
   "cell_type": "code",
   "execution_count": 171,
   "metadata": {
    "ExecuteTime": {
     "end_time": "2020-07-26T20:50:34.637471Z",
     "start_time": "2020-07-26T20:50:34.635552Z"
    }
   },
   "outputs": [],
   "source": [
    "#Vale, debe decir False porque el orden es diferente."
   ]
  },
  {
   "cell_type": "code",
   "execution_count": 172,
   "metadata": {
    "ExecuteTime": {
     "end_time": "2020-07-26T20:50:35.493946Z",
     "start_time": "2020-07-26T20:50:35.490609Z"
    }
   },
   "outputs": [
    {
     "data": {
      "text/plain": [
       "True"
      ]
     },
     "execution_count": 172,
     "metadata": {},
     "output_type": "execute_result"
    }
   ],
   "source": [
    "len(types1) == len(types2)"
   ]
  },
  {
   "cell_type": "markdown",
   "metadata": {},
   "source": [
    "### Cleanup `Name` that contain \"Mega\"\n",
    "\n",
    "If you have checked out the pokemon names carefully enough, you should have found there are junk texts in the pokemon names which contain \"Mega\". We want to clean up the pokemon names. For instance, \"VenusaurMega Venusaur\" should be \"Mega Venusaur\", and \"CharizardMega Charizard X\" should be \"Mega Charizard X\"."
   ]
  },
  {
   "cell_type": "code",
   "execution_count": 173,
   "metadata": {
    "ExecuteTime": {
     "end_time": "2020-07-26T20:50:37.026456Z",
     "start_time": "2020-07-26T20:50:37.021004Z"
    },
    "scrolled": false
   },
   "outputs": [
    {
     "data": {
      "text/plain": [
       "array(['Bulbasaur', 'Ivysaur', 'Venusaur', 'VenusaurMega Venusaur',\n",
       "       'Charmander', 'Charmeleon', 'Charizard',\n",
       "       'CharizardMega Charizard X', 'CharizardMega Charizard Y',\n",
       "       'Squirtle', 'Wartortle', 'Blastoise', 'BlastoiseMega Blastoise',\n",
       "       'Caterpie', 'Metapod', 'Butterfree', 'Weedle', 'Kakuna',\n",
       "       'Beedrill', 'BeedrillMega Beedrill', 'Pidgey', 'Pidgeotto',\n",
       "       'Pidgeot', 'PidgeotMega Pidgeot', 'Rattata', 'Raticate', 'Spearow',\n",
       "       'Fearow', 'Ekans', 'Arbok', 'Pikachu', 'Raichu', 'Sandshrew',\n",
       "       'Sandslash', 'Nidoran♀', 'Nidorina', 'Nidoqueen', 'Nidoran♂',\n",
       "       'Nidorino', 'Nidoking', 'Clefairy', 'Clefable', 'Vulpix',\n",
       "       'Ninetales', 'Jigglypuff', 'Wigglytuff', 'Zubat', 'Golbat',\n",
       "       'Oddish', 'Gloom', 'Vileplume', 'Paras', 'Parasect', 'Venonat',\n",
       "       'Venomoth', 'Diglett', 'Dugtrio', 'Meowth', 'Persian', 'Psyduck',\n",
       "       'Golduck', 'Mankey', 'Primeape', 'Growlithe', 'Arcanine',\n",
       "       'Poliwag', 'Poliwhirl', 'Poliwrath', 'Abra', 'Kadabra', 'Alakazam',\n",
       "       'AlakazamMega Alakazam', 'Machop', 'Machoke', 'Machamp',\n",
       "       'Bellsprout', 'Weepinbell', 'Victreebel', 'Tentacool',\n",
       "       'Tentacruel', 'Geodude', 'Graveler', 'Golem', 'Ponyta', 'Rapidash',\n",
       "       'Slowpoke', 'Slowbro', 'SlowbroMega Slowbro', 'Magnemite',\n",
       "       'Magneton', \"Farfetch'd\", 'Doduo', 'Dodrio', 'Seel', 'Dewgong',\n",
       "       'Grimer', 'Muk', 'Shellder', 'Cloyster', 'Gastly', 'Haunter',\n",
       "       'Gengar', 'GengarMega Gengar', 'Onix', 'Drowzee', 'Hypno',\n",
       "       'Krabby', 'Kingler', 'Voltorb', 'Electrode', 'Exeggcute',\n",
       "       'Exeggutor', 'Cubone', 'Marowak', 'Hitmonlee', 'Hitmonchan',\n",
       "       'Lickitung', 'Koffing', 'Weezing', 'Rhyhorn', 'Rhydon', 'Chansey',\n",
       "       'Tangela', 'Kangaskhan', 'KangaskhanMega Kangaskhan', 'Horsea',\n",
       "       'Seadra', 'Goldeen', 'Seaking', 'Staryu', 'Starmie', 'Mr. Mime',\n",
       "       'Scyther', 'Jynx', 'Electabuzz', 'Magmar', 'Pinsir',\n",
       "       'PinsirMega Pinsir', 'Tauros', 'Magikarp', 'Gyarados',\n",
       "       'GyaradosMega Gyarados', 'Lapras', 'Ditto', 'Eevee', 'Vaporeon',\n",
       "       'Jolteon', 'Flareon', 'Porygon', 'Omanyte', 'Omastar', 'Kabuto',\n",
       "       'Kabutops', 'Aerodactyl', 'AerodactylMega Aerodactyl', 'Snorlax',\n",
       "       'Articuno', 'Zapdos', 'Moltres', 'Dratini', 'Dragonair',\n",
       "       'Dragonite', 'Mewtwo', 'MewtwoMega Mewtwo X',\n",
       "       'MewtwoMega Mewtwo Y', 'Mew', 'Chikorita', 'Bayleef', 'Meganium',\n",
       "       'Cyndaquil', 'Quilava', 'Typhlosion', 'Totodile', 'Croconaw',\n",
       "       'Feraligatr', 'Sentret', 'Furret', 'Hoothoot', 'Noctowl', 'Ledyba',\n",
       "       'Ledian', 'Spinarak', 'Ariados', 'Crobat', 'Chinchou', 'Lanturn',\n",
       "       'Pichu', 'Cleffa', 'Igglybuff', 'Togepi', 'Togetic', 'Natu',\n",
       "       'Xatu', 'Mareep', 'Flaaffy', 'Ampharos', 'AmpharosMega Ampharos',\n",
       "       'Bellossom', 'Marill', 'Azumarill', 'Sudowoodo', 'Politoed',\n",
       "       'Hoppip', 'Skiploom', 'Jumpluff', 'Aipom', 'Sunkern', 'Sunflora',\n",
       "       'Yanma', 'Wooper', 'Quagsire', 'Espeon', 'Umbreon', 'Murkrow',\n",
       "       'Slowking', 'Misdreavus', 'Unown', 'Wobbuffet', 'Girafarig',\n",
       "       'Pineco', 'Forretress', 'Dunsparce', 'Gligar', 'Steelix',\n",
       "       'SteelixMega Steelix', 'Snubbull', 'Granbull', 'Qwilfish',\n",
       "       'Scizor', 'ScizorMega Scizor', 'Shuckle', 'Heracross',\n",
       "       'HeracrossMega Heracross', 'Sneasel', 'Teddiursa', 'Ursaring',\n",
       "       'Slugma', 'Magcargo', 'Swinub', 'Piloswine', 'Corsola', 'Remoraid',\n",
       "       'Octillery', 'Delibird', 'Mantine', 'Skarmory', 'Houndour',\n",
       "       'Houndoom', 'HoundoomMega Houndoom', 'Kingdra', 'Phanpy',\n",
       "       'Donphan', 'Porygon2', 'Stantler', 'Smeargle', 'Tyrogue',\n",
       "       'Hitmontop', 'Smoochum', 'Elekid', 'Magby', 'Miltank', 'Blissey',\n",
       "       'Raikou', 'Entei', 'Suicune', 'Larvitar', 'Pupitar', 'Tyranitar',\n",
       "       'TyranitarMega Tyranitar', 'Lugia', 'Ho-oh', 'Celebi', 'Treecko',\n",
       "       'Grovyle', 'Sceptile', 'SceptileMega Sceptile', 'Torchic',\n",
       "       'Combusken', 'Blaziken', 'BlazikenMega Blaziken', 'Mudkip',\n",
       "       'Marshtomp', 'Swampert', 'SwampertMega Swampert', 'Poochyena',\n",
       "       'Mightyena', 'Zigzagoon', 'Linoone', 'Wurmple', 'Silcoon',\n",
       "       'Beautifly', 'Cascoon', 'Dustox', 'Lotad', 'Lombre', 'Ludicolo',\n",
       "       'Seedot', 'Nuzleaf', 'Shiftry', 'Taillow', 'Swellow', 'Wingull',\n",
       "       'Pelipper', 'Ralts', 'Kirlia', 'Gardevoir',\n",
       "       'GardevoirMega Gardevoir', 'Surskit', 'Masquerain', 'Shroomish',\n",
       "       'Breloom', 'Slakoth', 'Vigoroth', 'Slaking', 'Nincada', 'Ninjask',\n",
       "       'Shedinja', 'Whismur', 'Loudred', 'Exploud', 'Makuhita',\n",
       "       'Hariyama', 'Azurill', 'Nosepass', 'Skitty', 'Delcatty', 'Sableye',\n",
       "       'SableyeMega Sableye', 'Mawile', 'MawileMega Mawile', 'Aron',\n",
       "       'Lairon', 'Aggron', 'AggronMega Aggron', 'Meditite', 'Medicham',\n",
       "       'MedichamMega Medicham', 'Electrike', 'Manectric',\n",
       "       'ManectricMega Manectric', 'Plusle', 'Minun', 'Volbeat',\n",
       "       'Illumise', 'Roselia', 'Gulpin', 'Swalot', 'Carvanha', 'Sharpedo',\n",
       "       'SharpedoMega Sharpedo', 'Wailmer', 'Wailord', 'Numel', 'Camerupt',\n",
       "       'CameruptMega Camerupt', 'Torkoal', 'Spoink', 'Grumpig', 'Spinda',\n",
       "       'Trapinch', 'Vibrava', 'Flygon', 'Cacnea', 'Cacturne', 'Swablu',\n",
       "       'Altaria', 'AltariaMega Altaria', 'Zangoose', 'Seviper',\n",
       "       'Lunatone', 'Solrock', 'Barboach', 'Whiscash', 'Corphish',\n",
       "       'Crawdaunt', 'Baltoy', 'Claydol', 'Lileep', 'Cradily', 'Anorith',\n",
       "       'Armaldo', 'Feebas', 'Milotic', 'Castform', 'Kecleon', 'Shuppet',\n",
       "       'Banette', 'BanetteMega Banette', 'Duskull', 'Dusclops', 'Tropius',\n",
       "       'Chimecho', 'Absol', 'AbsolMega Absol', 'Wynaut', 'Snorunt',\n",
       "       'Glalie', 'GlalieMega Glalie', 'Spheal', 'Sealeo', 'Walrein',\n",
       "       'Clamperl', 'Huntail', 'Gorebyss', 'Relicanth', 'Luvdisc', 'Bagon',\n",
       "       'Shelgon', 'Salamence', 'SalamenceMega Salamence', 'Beldum',\n",
       "       'Metang', 'Metagross', 'MetagrossMega Metagross', 'Regirock',\n",
       "       'Regice', 'Registeel', 'Latias', 'LatiasMega Latias', 'Latios',\n",
       "       'LatiosMega Latios', 'Kyogre', 'KyogrePrimal Kyogre', 'Groudon',\n",
       "       'GroudonPrimal Groudon', 'Rayquaza', 'RayquazaMega Rayquaza',\n",
       "       'Jirachi', 'DeoxysNormal Forme', 'DeoxysAttack Forme',\n",
       "       'DeoxysDefense Forme', 'DeoxysSpeed Forme', 'Turtwig', 'Grotle',\n",
       "       'Torterra', 'Chimchar', 'Monferno', 'Infernape', 'Piplup',\n",
       "       'Prinplup', 'Empoleon', 'Starly', 'Staravia', 'Staraptor',\n",
       "       'Bidoof', 'Bibarel', 'Kricketot', 'Kricketune', 'Shinx', 'Luxio',\n",
       "       'Luxray', 'Budew', 'Roserade', 'Cranidos', 'Rampardos', 'Shieldon',\n",
       "       'Bastiodon', 'Burmy', 'WormadamPlant Cloak', 'WormadamSandy Cloak',\n",
       "       'WormadamTrash Cloak', 'Mothim', 'Combee', 'Vespiquen',\n",
       "       'Pachirisu', 'Buizel', 'Floatzel', 'Cherubi', 'Cherrim', 'Shellos',\n",
       "       'Gastrodon', 'Ambipom', 'Drifloon', 'Drifblim', 'Buneary',\n",
       "       'Lopunny', 'LopunnyMega Lopunny', 'Mismagius', 'Honchkrow',\n",
       "       'Glameow', 'Purugly', 'Chingling', 'Stunky', 'Skuntank', 'Bronzor',\n",
       "       'Bronzong', 'Bonsly', 'Mime Jr.', 'Happiny', 'Chatot', 'Spiritomb',\n",
       "       'Gible', 'Gabite', 'Garchomp', 'GarchompMega Garchomp', 'Munchlax',\n",
       "       'Riolu', 'Lucario', 'LucarioMega Lucario', 'Hippopotas',\n",
       "       'Hippowdon', 'Skorupi', 'Drapion', 'Croagunk', 'Toxicroak',\n",
       "       'Carnivine', 'Finneon', 'Lumineon', 'Mantyke', 'Snover',\n",
       "       'Abomasnow', 'AbomasnowMega Abomasnow', 'Weavile', 'Magnezone',\n",
       "       'Lickilicky', 'Rhyperior', 'Tangrowth', 'Electivire', 'Magmortar',\n",
       "       'Togekiss', 'Yanmega', 'Leafeon', 'Glaceon', 'Gliscor',\n",
       "       'Mamoswine', 'Porygon-Z', 'Gallade', 'GalladeMega Gallade',\n",
       "       'Probopass', 'Dusknoir', 'Froslass', 'Rotom', 'RotomHeat Rotom',\n",
       "       'RotomWash Rotom', 'RotomFrost Rotom', 'RotomFan Rotom',\n",
       "       'RotomMow Rotom', 'Uxie', 'Mesprit', 'Azelf', 'Dialga', 'Palkia',\n",
       "       'Heatran', 'Regigigas', 'GiratinaAltered Forme',\n",
       "       'GiratinaOrigin Forme', 'Cresselia', 'Phione', 'Manaphy',\n",
       "       'Darkrai', 'ShayminLand Forme', 'ShayminSky Forme', 'Arceus',\n",
       "       'Victini', 'Snivy', 'Servine', 'Serperior', 'Tepig', 'Pignite',\n",
       "       'Emboar', 'Oshawott', 'Dewott', 'Samurott', 'Patrat', 'Watchog',\n",
       "       'Lillipup', 'Herdier', 'Stoutland', 'Purrloin', 'Liepard',\n",
       "       'Pansage', 'Simisage', 'Pansear', 'Simisear', 'Panpour',\n",
       "       'Simipour', 'Munna', 'Musharna', 'Pidove', 'Tranquill', 'Unfezant',\n",
       "       'Blitzle', 'Zebstrika', 'Roggenrola', 'Boldore', 'Gigalith',\n",
       "       'Woobat', 'Swoobat', 'Drilbur', 'Excadrill', 'Audino',\n",
       "       'AudinoMega Audino', 'Timburr', 'Gurdurr', 'Conkeldurr', 'Tympole',\n",
       "       'Palpitoad', 'Seismitoad', 'Throh', 'Sawk', 'Sewaddle', 'Swadloon',\n",
       "       'Leavanny', 'Venipede', 'Whirlipede', 'Scolipede', 'Cottonee',\n",
       "       'Whimsicott', 'Petilil', 'Lilligant', 'Basculin', 'Sandile',\n",
       "       'Krokorok', 'Krookodile', 'Darumaka', 'DarmanitanStandard Mode',\n",
       "       'DarmanitanZen Mode', 'Maractus', 'Dwebble', 'Crustle', 'Scraggy',\n",
       "       'Scrafty', 'Sigilyph', 'Yamask', 'Cofagrigus', 'Tirtouga',\n",
       "       'Carracosta', 'Archen', 'Archeops', 'Trubbish', 'Garbodor',\n",
       "       'Zorua', 'Zoroark', 'Minccino', 'Cinccino', 'Gothita', 'Gothorita',\n",
       "       'Gothitelle', 'Solosis', 'Duosion', 'Reuniclus', 'Ducklett',\n",
       "       'Swanna', 'Vanillite', 'Vanillish', 'Vanilluxe', 'Deerling',\n",
       "       'Sawsbuck', 'Emolga', 'Karrablast', 'Escavalier', 'Foongus',\n",
       "       'Amoonguss', 'Frillish', 'Jellicent', 'Alomomola', 'Joltik',\n",
       "       'Galvantula', 'Ferroseed', 'Ferrothorn', 'Klink', 'Klang',\n",
       "       'Klinklang', 'Tynamo', 'Eelektrik', 'Eelektross', 'Elgyem',\n",
       "       'Beheeyem', 'Litwick', 'Lampent', 'Chandelure', 'Axew', 'Fraxure',\n",
       "       'Haxorus', 'Cubchoo', 'Beartic', 'Cryogonal', 'Shelmet',\n",
       "       'Accelgor', 'Stunfisk', 'Mienfoo', 'Mienshao', 'Druddigon',\n",
       "       'Golett', 'Golurk', 'Pawniard', 'Bisharp', 'Bouffalant', 'Rufflet',\n",
       "       'Braviary', 'Vullaby', 'Mandibuzz', 'Heatmor', 'Durant', 'Deino',\n",
       "       'Zweilous', 'Hydreigon', 'Larvesta', 'Volcarona', 'Cobalion',\n",
       "       'Terrakion', 'Virizion', 'TornadusIncarnate Forme',\n",
       "       'TornadusTherian Forme', 'ThundurusIncarnate Forme',\n",
       "       'ThundurusTherian Forme', 'Reshiram', 'Zekrom',\n",
       "       'LandorusIncarnate Forme', 'LandorusTherian Forme', 'Kyurem',\n",
       "       'KyuremBlack Kyurem', 'KyuremWhite Kyurem', 'KeldeoOrdinary Forme',\n",
       "       'KeldeoResolute Forme', 'MeloettaAria Forme',\n",
       "       'MeloettaPirouette Forme', 'Genesect', 'Chespin', 'Quilladin',\n",
       "       'Chesnaught', 'Fennekin', 'Braixen', 'Delphox', 'Froakie',\n",
       "       'Frogadier', 'Greninja', 'Bunnelby', 'Diggersby', 'Fletchling',\n",
       "       'Fletchinder', 'Talonflame', 'Scatterbug', 'Spewpa', 'Vivillon',\n",
       "       'Litleo', 'Pyroar', 'Flabébé', 'Floette', 'Florges', 'Skiddo',\n",
       "       'Gogoat', 'Pancham', 'Pangoro', 'Furfrou', 'Espurr',\n",
       "       'MeowsticMale', 'MeowsticFemale', 'Honedge', 'Doublade',\n",
       "       'AegislashBlade Forme', 'AegislashShield Forme', 'Spritzee',\n",
       "       'Aromatisse', 'Swirlix', 'Slurpuff', 'Inkay', 'Malamar', 'Binacle',\n",
       "       'Barbaracle', 'Skrelp', 'Dragalge', 'Clauncher', 'Clawitzer',\n",
       "       'Helioptile', 'Heliolisk', 'Tyrunt', 'Tyrantrum', 'Amaura',\n",
       "       'Aurorus', 'Sylveon', 'Hawlucha', 'Dedenne', 'Carbink', 'Goomy',\n",
       "       'Sliggoo', 'Goodra', 'Klefki', 'Phantump', 'Trevenant',\n",
       "       'PumpkabooAverage Size', 'PumpkabooSmall Size',\n",
       "       'PumpkabooLarge Size', 'PumpkabooSuper Size',\n",
       "       'GourgeistAverage Size', 'GourgeistSmall Size',\n",
       "       'GourgeistLarge Size', 'GourgeistSuper Size', 'Bergmite',\n",
       "       'Avalugg', 'Noibat', 'Noivern', 'Xerneas', 'Yveltal',\n",
       "       'Zygarde50% Forme', 'Diancie', 'DiancieMega Diancie',\n",
       "       'HoopaHoopa Confined', 'HoopaHoopa Unbound', 'Volcanion'],\n",
       "      dtype=object)"
      ]
     },
     "execution_count": 173,
     "metadata": {},
     "output_type": "execute_result"
    }
   ],
   "source": [
    "#Vamos a ver los valores de la columna Name para analizarlos y ver los errores:\n",
    "nombres = np.array(pokemon[\"Name\"])\n",
    "nombres"
   ]
  },
  {
   "cell_type": "code",
   "execution_count": 174,
   "metadata": {
    "ExecuteTime": {
     "end_time": "2020-07-26T20:50:37.968417Z",
     "start_time": "2020-07-26T20:50:37.965798Z"
    }
   },
   "outputs": [
    {
     "data": {
      "text/plain": [
       "800"
      ]
     },
     "execution_count": 174,
     "metadata": {},
     "output_type": "execute_result"
    }
   ],
   "source": [
    "len(nombres)"
   ]
  },
  {
   "cell_type": "code",
   "execution_count": 175,
   "metadata": {
    "ExecuteTime": {
     "end_time": "2020-07-26T20:50:38.698891Z",
     "start_time": "2020-07-26T20:50:38.686137Z"
    }
   },
   "outputs": [
    {
     "name": "stderr",
     "output_type": "stream",
     "text": [
      "/Users/blancurri/opt/anaconda3/lib/python3.7/site-packages/pandas/core/strings.py:1952: UserWarning: This pattern has match groups. To actually get the groups, use str.extract.\n",
      "  return func(self, *args, **kwargs)\n"
     ]
    },
    {
     "data": {
      "text/html": [
       "<div>\n",
       "<style scoped>\n",
       "    .dataframe tbody tr th:only-of-type {\n",
       "        vertical-align: middle;\n",
       "    }\n",
       "\n",
       "    .dataframe tbody tr th {\n",
       "        vertical-align: top;\n",
       "    }\n",
       "\n",
       "    .dataframe thead th {\n",
       "        text-align: right;\n",
       "    }\n",
       "</style>\n",
       "<table border=\"1\" class=\"dataframe\">\n",
       "  <thead>\n",
       "    <tr style=\"text-align: right;\">\n",
       "      <th></th>\n",
       "      <th>#</th>\n",
       "      <th>Name</th>\n",
       "      <th>Type 1</th>\n",
       "      <th>Type 2</th>\n",
       "      <th>Total</th>\n",
       "      <th>HP</th>\n",
       "      <th>Attack</th>\n",
       "      <th>Defense</th>\n",
       "      <th>Sp. Atk</th>\n",
       "      <th>Sp. Def</th>\n",
       "      <th>Speed</th>\n",
       "      <th>Generation</th>\n",
       "      <th>Legendary</th>\n",
       "      <th>Mega</th>\n",
       "    </tr>\n",
       "  </thead>\n",
       "  <tbody>\n",
       "    <tr>\n",
       "      <th>0</th>\n",
       "      <td>1</td>\n",
       "      <td>Bulbasaur</td>\n",
       "      <td>Grass</td>\n",
       "      <td>Poison</td>\n",
       "      <td>318</td>\n",
       "      <td>45</td>\n",
       "      <td>49</td>\n",
       "      <td>49</td>\n",
       "      <td>65</td>\n",
       "      <td>65</td>\n",
       "      <td>45</td>\n",
       "      <td>1</td>\n",
       "      <td>False</td>\n",
       "      <td>False</td>\n",
       "    </tr>\n",
       "    <tr>\n",
       "      <th>1</th>\n",
       "      <td>2</td>\n",
       "      <td>Ivysaur</td>\n",
       "      <td>Grass</td>\n",
       "      <td>Poison</td>\n",
       "      <td>405</td>\n",
       "      <td>60</td>\n",
       "      <td>62</td>\n",
       "      <td>63</td>\n",
       "      <td>80</td>\n",
       "      <td>80</td>\n",
       "      <td>60</td>\n",
       "      <td>1</td>\n",
       "      <td>False</td>\n",
       "      <td>False</td>\n",
       "    </tr>\n",
       "    <tr>\n",
       "      <th>2</th>\n",
       "      <td>3</td>\n",
       "      <td>Venusaur</td>\n",
       "      <td>Grass</td>\n",
       "      <td>Poison</td>\n",
       "      <td>525</td>\n",
       "      <td>80</td>\n",
       "      <td>82</td>\n",
       "      <td>83</td>\n",
       "      <td>100</td>\n",
       "      <td>100</td>\n",
       "      <td>80</td>\n",
       "      <td>1</td>\n",
       "      <td>False</td>\n",
       "      <td>False</td>\n",
       "    </tr>\n",
       "    <tr>\n",
       "      <th>3</th>\n",
       "      <td>3</td>\n",
       "      <td>VenusaurMega Venusaur</td>\n",
       "      <td>Grass</td>\n",
       "      <td>Poison</td>\n",
       "      <td>625</td>\n",
       "      <td>80</td>\n",
       "      <td>100</td>\n",
       "      <td>123</td>\n",
       "      <td>122</td>\n",
       "      <td>120</td>\n",
       "      <td>80</td>\n",
       "      <td>1</td>\n",
       "      <td>False</td>\n",
       "      <td>True</td>\n",
       "    </tr>\n",
       "    <tr>\n",
       "      <th>4</th>\n",
       "      <td>4</td>\n",
       "      <td>Charmander</td>\n",
       "      <td>Fire</td>\n",
       "      <td>NaN</td>\n",
       "      <td>309</td>\n",
       "      <td>39</td>\n",
       "      <td>52</td>\n",
       "      <td>43</td>\n",
       "      <td>60</td>\n",
       "      <td>50</td>\n",
       "      <td>65</td>\n",
       "      <td>1</td>\n",
       "      <td>False</td>\n",
       "      <td>False</td>\n",
       "    </tr>\n",
       "  </tbody>\n",
       "</table>\n",
       "</div>"
      ],
      "text/plain": [
       "   #                   Name Type 1  Type 2  Total  HP  Attack  Defense  \\\n",
       "0  1              Bulbasaur  Grass  Poison    318  45      49       49   \n",
       "1  2                Ivysaur  Grass  Poison    405  60      62       63   \n",
       "2  3               Venusaur  Grass  Poison    525  80      82       83   \n",
       "3  3  VenusaurMega Venusaur  Grass  Poison    625  80     100      123   \n",
       "4  4             Charmander   Fire     NaN    309  39      52       43   \n",
       "\n",
       "   Sp. Atk  Sp. Def  Speed  Generation  Legendary   Mega  \n",
       "0       65       65     45           1      False  False  \n",
       "1       80       80     60           1      False  False  \n",
       "2      100      100     80           1      False  False  \n",
       "3      122      120     80           1      False   True  \n",
       "4       60       50     65           1      False  False  "
      ]
     },
     "execution_count": 175,
     "metadata": {},
     "output_type": "execute_result"
    }
   ],
   "source": [
    "#Según mi chico, que es quien sabe de Pokemon, el único error que ve en los nombres es que ponga Mega\n",
    "#Además, cada Pokemon con un Mega en su nombre es una repetición del Pokemon anterior, así que podríamos cargarnos todas las entradas que tengan un \"mega \" en su name\n",
    "#Puedo crear una columna \"Mega\" que tenga un booleano de si la columna Name lo contiene para luego cargarme esas filas\n",
    "\n",
    "pokemon[\"Mega\"] = pokemon.Name.str.contains('.*(Mega)')\n",
    "pokemon.head()"
   ]
  },
  {
   "cell_type": "code",
   "execution_count": 176,
   "metadata": {
    "ExecuteTime": {
     "end_time": "2020-07-26T20:50:39.393508Z",
     "start_time": "2020-07-26T20:50:39.391377Z"
    },
    "scrolled": true
   },
   "outputs": [],
   "source": [
    "#Aquí pensaba en cargarme las filas donde la columna Mega diera True, pero no me salió...\n",
    "#Y suerte que no me salió pq me volvé a repetir el enunciado y eso no era lo que se me pedía... lol\n",
    "\n",
    "#No me ha funcionado ninguna de estas opciones y no sé porqué\n",
    "#Primera prueba: \n",
    "#pokemon = pokemon[pokemon['Mega'].isin(['True'])]\n",
    "#Segunda prueba: \n",
    "#pokemon = pokemon.drop([pokemon[\"Mega\" == \"True\"]], axis =0)\n",
    "#Tercera prueba: \n",
    "#pokemon = pokemon[pokemon.Mega != 'True'].drop(axis = 0)\n",
    "#pokemon.head()"
   ]
  },
  {
   "cell_type": "code",
   "execution_count": 177,
   "metadata": {
    "ExecuteTime": {
     "end_time": "2020-07-26T20:50:41.974886Z",
     "start_time": "2020-07-26T20:50:41.970954Z"
    }
   },
   "outputs": [
    {
     "data": {
      "text/plain": [
       "800"
      ]
     },
     "execution_count": 177,
     "metadata": {},
     "output_type": "execute_result"
    }
   ],
   "source": [
    "pokemon.Name.count()"
   ]
  },
  {
   "cell_type": "code",
   "execution_count": 178,
   "metadata": {
    "ExecuteTime": {
     "end_time": "2020-07-26T20:50:42.440076Z",
     "start_time": "2020-07-26T20:50:42.435466Z"
    },
    "scrolled": true
   },
   "outputs": [],
   "source": [
    "#AHORA ENTIENDO QUE TENGO QUE CARGARME EN NAME LA PARTE DEL STRING ANTERIOR A MEGA \n",
    "pokemon['Name'] = pokemon['Name'].str.replace('Pitiflor', 'Bulbasaur')\n",
    "pokemon['Name'] = pokemon['Name'].str.replace('.*(Mega)', '')\n"
   ]
  },
  {
   "cell_type": "code",
   "execution_count": 179,
   "metadata": {
    "ExecuteTime": {
     "end_time": "2020-07-26T20:50:43.151393Z",
     "start_time": "2020-07-26T20:50:43.140848Z"
    }
   },
   "outputs": [
    {
     "data": {
      "text/html": [
       "<div>\n",
       "<style scoped>\n",
       "    .dataframe tbody tr th:only-of-type {\n",
       "        vertical-align: middle;\n",
       "    }\n",
       "\n",
       "    .dataframe tbody tr th {\n",
       "        vertical-align: top;\n",
       "    }\n",
       "\n",
       "    .dataframe thead th {\n",
       "        text-align: right;\n",
       "    }\n",
       "</style>\n",
       "<table border=\"1\" class=\"dataframe\">\n",
       "  <thead>\n",
       "    <tr style=\"text-align: right;\">\n",
       "      <th></th>\n",
       "      <th>#</th>\n",
       "      <th>Name</th>\n",
       "      <th>Type 1</th>\n",
       "      <th>Type 2</th>\n",
       "      <th>Total</th>\n",
       "      <th>HP</th>\n",
       "      <th>Attack</th>\n",
       "      <th>Defense</th>\n",
       "      <th>Sp. Atk</th>\n",
       "      <th>Sp. Def</th>\n",
       "      <th>Speed</th>\n",
       "      <th>Generation</th>\n",
       "      <th>Legendary</th>\n",
       "      <th>Mega</th>\n",
       "    </tr>\n",
       "  </thead>\n",
       "  <tbody>\n",
       "    <tr>\n",
       "      <th>0</th>\n",
       "      <td>1</td>\n",
       "      <td>Bulbasaur</td>\n",
       "      <td>Grass</td>\n",
       "      <td>Poison</td>\n",
       "      <td>318</td>\n",
       "      <td>45</td>\n",
       "      <td>49</td>\n",
       "      <td>49</td>\n",
       "      <td>65</td>\n",
       "      <td>65</td>\n",
       "      <td>45</td>\n",
       "      <td>1</td>\n",
       "      <td>False</td>\n",
       "      <td>False</td>\n",
       "    </tr>\n",
       "    <tr>\n",
       "      <th>1</th>\n",
       "      <td>2</td>\n",
       "      <td>Ivysaur</td>\n",
       "      <td>Grass</td>\n",
       "      <td>Poison</td>\n",
       "      <td>405</td>\n",
       "      <td>60</td>\n",
       "      <td>62</td>\n",
       "      <td>63</td>\n",
       "      <td>80</td>\n",
       "      <td>80</td>\n",
       "      <td>60</td>\n",
       "      <td>1</td>\n",
       "      <td>False</td>\n",
       "      <td>False</td>\n",
       "    </tr>\n",
       "    <tr>\n",
       "      <th>2</th>\n",
       "      <td>3</td>\n",
       "      <td>Venusaur</td>\n",
       "      <td>Grass</td>\n",
       "      <td>Poison</td>\n",
       "      <td>525</td>\n",
       "      <td>80</td>\n",
       "      <td>82</td>\n",
       "      <td>83</td>\n",
       "      <td>100</td>\n",
       "      <td>100</td>\n",
       "      <td>80</td>\n",
       "      <td>1</td>\n",
       "      <td>False</td>\n",
       "      <td>False</td>\n",
       "    </tr>\n",
       "    <tr>\n",
       "      <th>3</th>\n",
       "      <td>3</td>\n",
       "      <td>Venusaur</td>\n",
       "      <td>Grass</td>\n",
       "      <td>Poison</td>\n",
       "      <td>625</td>\n",
       "      <td>80</td>\n",
       "      <td>100</td>\n",
       "      <td>123</td>\n",
       "      <td>122</td>\n",
       "      <td>120</td>\n",
       "      <td>80</td>\n",
       "      <td>1</td>\n",
       "      <td>False</td>\n",
       "      <td>True</td>\n",
       "    </tr>\n",
       "    <tr>\n",
       "      <th>4</th>\n",
       "      <td>4</td>\n",
       "      <td>Charmander</td>\n",
       "      <td>Fire</td>\n",
       "      <td>NaN</td>\n",
       "      <td>309</td>\n",
       "      <td>39</td>\n",
       "      <td>52</td>\n",
       "      <td>43</td>\n",
       "      <td>60</td>\n",
       "      <td>50</td>\n",
       "      <td>65</td>\n",
       "      <td>1</td>\n",
       "      <td>False</td>\n",
       "      <td>False</td>\n",
       "    </tr>\n",
       "  </tbody>\n",
       "</table>\n",
       "</div>"
      ],
      "text/plain": [
       "   #        Name Type 1  Type 2  Total  HP  Attack  Defense  Sp. Atk  Sp. Def  \\\n",
       "0  1   Bulbasaur  Grass  Poison    318  45      49       49       65       65   \n",
       "1  2     Ivysaur  Grass  Poison    405  60      62       63       80       80   \n",
       "2  3    Venusaur  Grass  Poison    525  80      82       83      100      100   \n",
       "3  3    Venusaur  Grass  Poison    625  80     100      123      122      120   \n",
       "4  4  Charmander   Fire     NaN    309  39      52       43       60       50   \n",
       "\n",
       "   Speed  Generation  Legendary   Mega  \n",
       "0     45           1      False  False  \n",
       "1     60           1      False  False  \n",
       "2     80           1      False  False  \n",
       "3     80           1      False   True  \n",
       "4     65           1      False  False  "
      ]
     },
     "execution_count": 179,
     "metadata": {},
     "output_type": "execute_result"
    }
   ],
   "source": [
    "#No he sabido como quitar todo lo de antes de Mega y dejar mega (y así distinguirlos entre sí), así que dejo la columa mega de pista\n",
    "pokemon.head()"
   ]
  },
  {
   "cell_type": "code",
   "execution_count": 180,
   "metadata": {
    "ExecuteTime": {
     "end_time": "2020-07-26T20:50:45.198346Z",
     "start_time": "2020-07-26T20:50:45.195312Z"
    }
   },
   "outputs": [
    {
     "data": {
      "text/plain": [
       "800"
      ]
     },
     "execution_count": 180,
     "metadata": {},
     "output_type": "execute_result"
    }
   ],
   "source": [
    "#Cómo puede ser que siga habiendo 800 si ahora que hemos quitado el MEGA debería no contar los repetidos?\n",
    "nombressinmega = set(np.array(pokemon[\"Name\"]))\n",
    "len(nombressinmega)"
   ]
  },
  {
   "cell_type": "markdown",
   "metadata": {},
   "source": [
    "Esto es otra cosa que había intentado para quitar el mega pero no me funcionaba tampoco..."
   ]
  },
  {
   "cell_type": "code",
   "execution_count": 181,
   "metadata": {
    "ExecuteTime": {
     "end_time": "2020-07-26T20:50:47.911671Z",
     "start_time": "2020-07-26T20:50:47.909740Z"
    }
   },
   "outputs": [],
   "source": [
    "#Vamos a hacer split de los strings de Name por mayúscula.\n",
    "#Vamos a quitar de los strings el texto \"Mega\" y todo lo que venga antes.\n",
    "\n",
    "#pokemon['Name'] = pokemon['Name'].apply(lambda x : x.lstrip('VenusaurMega'))\n",
    "#pokemon.Name"
   ]
  },
  {
   "cell_type": "code",
   "execution_count": 182,
   "metadata": {
    "ExecuteTime": {
     "end_time": "2020-07-26T20:50:49.592146Z",
     "start_time": "2020-07-26T20:50:49.590058Z"
    }
   },
   "outputs": [],
   "source": [
    "#we will create a function to strip \"mega\" and the repeated name:\n",
    "\n",
    "#list_names\n",
    "#def Mega(df):\n",
    "#    for i in range(df.shape[0]): \n",
    "#        df.iat[i, 1]= df.iat[i, 1].strip().capitalize()\n",
    "        \n",
    "#Mega(Name)\n",
    "    \n",
    "#we convert the function to a lambda function:"
   ]
  },
  {
   "cell_type": "markdown",
   "metadata": {},
   "source": [
    "### Create a new column called `A/D Ratio` whose value equals to `Attack` devided by `Defense`\n",
    "\n",
    "For instance, if a pokemon has the Attack score 49 and Defense score 49, the corresponding `A/D Ratio` is 49/49=1."
   ]
  },
  {
   "cell_type": "code",
   "execution_count": 192,
   "metadata": {
    "ExecuteTime": {
     "end_time": "2020-07-26T20:53:04.355410Z",
     "start_time": "2020-07-26T20:53:04.342496Z"
    }
   },
   "outputs": [
    {
     "data": {
      "text/html": [
       "<div>\n",
       "<style scoped>\n",
       "    .dataframe tbody tr th:only-of-type {\n",
       "        vertical-align: middle;\n",
       "    }\n",
       "\n",
       "    .dataframe tbody tr th {\n",
       "        vertical-align: top;\n",
       "    }\n",
       "\n",
       "    .dataframe thead th {\n",
       "        text-align: right;\n",
       "    }\n",
       "</style>\n",
       "<table border=\"1\" class=\"dataframe\">\n",
       "  <thead>\n",
       "    <tr style=\"text-align: right;\">\n",
       "      <th></th>\n",
       "      <th>#</th>\n",
       "      <th>Name</th>\n",
       "      <th>Type 1</th>\n",
       "      <th>Type 2</th>\n",
       "      <th>Total</th>\n",
       "      <th>HP</th>\n",
       "      <th>Attack</th>\n",
       "      <th>Defense</th>\n",
       "      <th>Sp. Atk</th>\n",
       "      <th>Sp. Def</th>\n",
       "      <th>Speed</th>\n",
       "      <th>Generation</th>\n",
       "      <th>Legendary</th>\n",
       "      <th>Mega</th>\n",
       "      <th>A/D Ratio</th>\n",
       "    </tr>\n",
       "  </thead>\n",
       "  <tbody>\n",
       "    <tr>\n",
       "      <th>0</th>\n",
       "      <td>1</td>\n",
       "      <td>Bulbasaur</td>\n",
       "      <td>Grass</td>\n",
       "      <td>Poison</td>\n",
       "      <td>318</td>\n",
       "      <td>45</td>\n",
       "      <td>49</td>\n",
       "      <td>49</td>\n",
       "      <td>65</td>\n",
       "      <td>65</td>\n",
       "      <td>45</td>\n",
       "      <td>1</td>\n",
       "      <td>False</td>\n",
       "      <td>False</td>\n",
       "      <td>1.000000</td>\n",
       "    </tr>\n",
       "    <tr>\n",
       "      <th>1</th>\n",
       "      <td>2</td>\n",
       "      <td>Ivysaur</td>\n",
       "      <td>Grass</td>\n",
       "      <td>Poison</td>\n",
       "      <td>405</td>\n",
       "      <td>60</td>\n",
       "      <td>62</td>\n",
       "      <td>63</td>\n",
       "      <td>80</td>\n",
       "      <td>80</td>\n",
       "      <td>60</td>\n",
       "      <td>1</td>\n",
       "      <td>False</td>\n",
       "      <td>False</td>\n",
       "      <td>0.984127</td>\n",
       "    </tr>\n",
       "    <tr>\n",
       "      <th>2</th>\n",
       "      <td>3</td>\n",
       "      <td>Venusaur</td>\n",
       "      <td>Grass</td>\n",
       "      <td>Poison</td>\n",
       "      <td>525</td>\n",
       "      <td>80</td>\n",
       "      <td>82</td>\n",
       "      <td>83</td>\n",
       "      <td>100</td>\n",
       "      <td>100</td>\n",
       "      <td>80</td>\n",
       "      <td>1</td>\n",
       "      <td>False</td>\n",
       "      <td>False</td>\n",
       "      <td>0.987952</td>\n",
       "    </tr>\n",
       "    <tr>\n",
       "      <th>3</th>\n",
       "      <td>3</td>\n",
       "      <td>Venusaur</td>\n",
       "      <td>Grass</td>\n",
       "      <td>Poison</td>\n",
       "      <td>625</td>\n",
       "      <td>80</td>\n",
       "      <td>100</td>\n",
       "      <td>123</td>\n",
       "      <td>122</td>\n",
       "      <td>120</td>\n",
       "      <td>80</td>\n",
       "      <td>1</td>\n",
       "      <td>False</td>\n",
       "      <td>True</td>\n",
       "      <td>0.813008</td>\n",
       "    </tr>\n",
       "    <tr>\n",
       "      <th>4</th>\n",
       "      <td>4</td>\n",
       "      <td>Charmander</td>\n",
       "      <td>Fire</td>\n",
       "      <td>NaN</td>\n",
       "      <td>309</td>\n",
       "      <td>39</td>\n",
       "      <td>52</td>\n",
       "      <td>43</td>\n",
       "      <td>60</td>\n",
       "      <td>50</td>\n",
       "      <td>65</td>\n",
       "      <td>1</td>\n",
       "      <td>False</td>\n",
       "      <td>False</td>\n",
       "      <td>1.209302</td>\n",
       "    </tr>\n",
       "  </tbody>\n",
       "</table>\n",
       "</div>"
      ],
      "text/plain": [
       "   #        Name Type 1  Type 2  Total  HP  Attack  Defense  Sp. Atk  Sp. Def  \\\n",
       "0  1   Bulbasaur  Grass  Poison    318  45      49       49       65       65   \n",
       "1  2     Ivysaur  Grass  Poison    405  60      62       63       80       80   \n",
       "2  3    Venusaur  Grass  Poison    525  80      82       83      100      100   \n",
       "3  3    Venusaur  Grass  Poison    625  80     100      123      122      120   \n",
       "4  4  Charmander   Fire     NaN    309  39      52       43       60       50   \n",
       "\n",
       "   Speed  Generation  Legendary   Mega  A/D Ratio  \n",
       "0     45           1      False  False   1.000000  \n",
       "1     60           1      False  False   0.984127  \n",
       "2     80           1      False  False   0.987952  \n",
       "3     80           1      False   True   0.813008  \n",
       "4     65           1      False  False   1.209302  "
      ]
     },
     "execution_count": 192,
     "metadata": {},
     "output_type": "execute_result"
    }
   ],
   "source": [
    "# enter your code here\n",
    "pokemon[\"A/D Ratio\"] = pokemon[\"Attack\"]/pokemon[\"Defense\"]\n",
    "pokemon.head()"
   ]
  },
  {
   "cell_type": "markdown",
   "metadata": {},
   "source": [
    "### Identify the pokemon with the highest `A/D Ratio`"
   ]
  },
  {
   "cell_type": "code",
   "execution_count": 194,
   "metadata": {
    "ExecuteTime": {
     "end_time": "2020-07-26T20:53:13.030587Z",
     "start_time": "2020-07-26T20:53:13.025529Z"
    }
   },
   "outputs": [
    {
     "data": {
      "text/plain": [
       "429    DeoxysAttack Forme\n",
       "Name: Name, dtype: object"
      ]
     },
     "execution_count": 194,
     "metadata": {},
     "output_type": "execute_result"
    }
   ],
   "source": [
    "# enter your code here\n",
    "#largest_ratio = pokemon.\"A/D Ratio\".max()[\"Name\"]\n",
    "\n",
    "m = pokemon[\"A/D Ratio\"].max()\n",
    "pokemon[pokemon[\"A/D Ratio\"]==m][\"Name\"]\n",
    "\n",
    "#No entiendo por qué si hago esto no me funciona:\n",
    "#m = pokemon[\"A/D Ratio\"].max()\n",
    "#n = pokemon[pokemon[\"A/D Ratio\"]==m][\"Name\"]\n",
    "#print(\"El pokemon con más A/D ratio es {n}\")"
   ]
  },
  {
   "cell_type": "markdown",
   "metadata": {},
   "source": [
    "### Identify the pokemon with the lowest A/D Ratio"
   ]
  },
  {
   "cell_type": "code",
   "execution_count": 191,
   "metadata": {
    "ExecuteTime": {
     "end_time": "2020-07-26T20:52:55.092627Z",
     "start_time": "2020-07-26T20:52:55.087712Z"
    }
   },
   "outputs": [
    {
     "data": {
      "text/plain": [
       "230    Shuckle\n",
       "Name: Name, dtype: object"
      ]
     },
     "execution_count": 191,
     "metadata": {},
     "output_type": "execute_result"
    }
   ],
   "source": [
    "# enter your code here\n",
    "g = pokemon[\"A/D Ratio\"].min()\n",
    "pokemon[pokemon[\"A/D Ratio\"]==g][\"Name\"]"
   ]
  },
  {
   "cell_type": "markdown",
   "metadata": {},
   "source": [
    "### Create a new column called `Combo Type` whose value combines `Type 1` and `Type 2`.\n",
    "\n",
    "Rules:\n",
    "\n",
    "* If both `Type 1` and `Type 2` have valid values, the `Combo Type` value should contain both values in the form of `<Type 1> <Type 2>`. For example, if `Type 1` value is `Grass` and `Type 2` value is `Poison`, `Combo Type` will be `Grass-Poison`.\n",
    "\n",
    "* If `Type 1` has valid value but `Type 2` is not, `Combo Type` will be the same as `Type 1`. For example, if `Type 1` is `Fire` whereas `Type 2` is `NaN`, `Combo Type` will be `Fire`."
   ]
  },
  {
   "cell_type": "code",
   "execution_count": 209,
   "metadata": {
    "ExecuteTime": {
     "end_time": "2020-07-26T21:10:25.342374Z",
     "start_time": "2020-07-26T21:10:25.328770Z"
    }
   },
   "outputs": [
    {
     "data": {
      "text/html": [
       "<div>\n",
       "<style scoped>\n",
       "    .dataframe tbody tr th:only-of-type {\n",
       "        vertical-align: middle;\n",
       "    }\n",
       "\n",
       "    .dataframe tbody tr th {\n",
       "        vertical-align: top;\n",
       "    }\n",
       "\n",
       "    .dataframe thead th {\n",
       "        text-align: right;\n",
       "    }\n",
       "</style>\n",
       "<table border=\"1\" class=\"dataframe\">\n",
       "  <thead>\n",
       "    <tr style=\"text-align: right;\">\n",
       "      <th></th>\n",
       "      <th>#</th>\n",
       "      <th>Name</th>\n",
       "      <th>Type 1</th>\n",
       "      <th>Type 2</th>\n",
       "      <th>Total</th>\n",
       "      <th>HP</th>\n",
       "      <th>Attack</th>\n",
       "      <th>Defense</th>\n",
       "      <th>Sp. Atk</th>\n",
       "      <th>Sp. Def</th>\n",
       "      <th>Speed</th>\n",
       "      <th>Generation</th>\n",
       "      <th>Legendary</th>\n",
       "      <th>Mega</th>\n",
       "      <th>A/D Ratio</th>\n",
       "      <th>Combo Type</th>\n",
       "    </tr>\n",
       "  </thead>\n",
       "  <tbody>\n",
       "    <tr>\n",
       "      <th>0</th>\n",
       "      <td>1</td>\n",
       "      <td>Bulbasaur</td>\n",
       "      <td>Grass</td>\n",
       "      <td>Poison</td>\n",
       "      <td>318</td>\n",
       "      <td>45</td>\n",
       "      <td>49</td>\n",
       "      <td>49</td>\n",
       "      <td>65</td>\n",
       "      <td>65</td>\n",
       "      <td>45</td>\n",
       "      <td>1</td>\n",
       "      <td>False</td>\n",
       "      <td>False</td>\n",
       "      <td>1.000000</td>\n",
       "      <td>Grass Poison</td>\n",
       "    </tr>\n",
       "    <tr>\n",
       "      <th>1</th>\n",
       "      <td>2</td>\n",
       "      <td>Ivysaur</td>\n",
       "      <td>Grass</td>\n",
       "      <td>Poison</td>\n",
       "      <td>405</td>\n",
       "      <td>60</td>\n",
       "      <td>62</td>\n",
       "      <td>63</td>\n",
       "      <td>80</td>\n",
       "      <td>80</td>\n",
       "      <td>60</td>\n",
       "      <td>1</td>\n",
       "      <td>False</td>\n",
       "      <td>False</td>\n",
       "      <td>0.984127</td>\n",
       "      <td>Grass Poison</td>\n",
       "    </tr>\n",
       "    <tr>\n",
       "      <th>2</th>\n",
       "      <td>3</td>\n",
       "      <td>Venusaur</td>\n",
       "      <td>Grass</td>\n",
       "      <td>Poison</td>\n",
       "      <td>525</td>\n",
       "      <td>80</td>\n",
       "      <td>82</td>\n",
       "      <td>83</td>\n",
       "      <td>100</td>\n",
       "      <td>100</td>\n",
       "      <td>80</td>\n",
       "      <td>1</td>\n",
       "      <td>False</td>\n",
       "      <td>False</td>\n",
       "      <td>0.987952</td>\n",
       "      <td>Grass Poison</td>\n",
       "    </tr>\n",
       "    <tr>\n",
       "      <th>3</th>\n",
       "      <td>3</td>\n",
       "      <td>Venusaur</td>\n",
       "      <td>Grass</td>\n",
       "      <td>Poison</td>\n",
       "      <td>625</td>\n",
       "      <td>80</td>\n",
       "      <td>100</td>\n",
       "      <td>123</td>\n",
       "      <td>122</td>\n",
       "      <td>120</td>\n",
       "      <td>80</td>\n",
       "      <td>1</td>\n",
       "      <td>False</td>\n",
       "      <td>True</td>\n",
       "      <td>0.813008</td>\n",
       "      <td>Grass Poison</td>\n",
       "    </tr>\n",
       "    <tr>\n",
       "      <th>4</th>\n",
       "      <td>4</td>\n",
       "      <td>Charmander</td>\n",
       "      <td>Fire</td>\n",
       "      <td>NaN</td>\n",
       "      <td>309</td>\n",
       "      <td>39</td>\n",
       "      <td>52</td>\n",
       "      <td>43</td>\n",
       "      <td>60</td>\n",
       "      <td>50</td>\n",
       "      <td>65</td>\n",
       "      <td>1</td>\n",
       "      <td>False</td>\n",
       "      <td>False</td>\n",
       "      <td>1.209302</td>\n",
       "      <td>NaN</td>\n",
       "    </tr>\n",
       "  </tbody>\n",
       "</table>\n",
       "</div>"
      ],
      "text/plain": [
       "   #        Name Type 1  Type 2  Total  HP  Attack  Defense  Sp. Atk  Sp. Def  \\\n",
       "0  1   Bulbasaur  Grass  Poison    318  45      49       49       65       65   \n",
       "1  2     Ivysaur  Grass  Poison    405  60      62       63       80       80   \n",
       "2  3    Venusaur  Grass  Poison    525  80      82       83      100      100   \n",
       "3  3    Venusaur  Grass  Poison    625  80     100      123      122      120   \n",
       "4  4  Charmander   Fire     NaN    309  39      52       43       60       50   \n",
       "\n",
       "   Speed  Generation  Legendary   Mega  A/D Ratio    Combo Type  \n",
       "0     45           1      False  False   1.000000  Grass Poison  \n",
       "1     60           1      False  False   0.984127  Grass Poison  \n",
       "2     80           1      False  False   0.987952  Grass Poison  \n",
       "3     80           1      False   True   0.813008  Grass Poison  \n",
       "4     65           1      False  False   1.209302           NaN  "
      ]
     },
     "execution_count": 209,
     "metadata": {},
     "output_type": "execute_result"
    }
   ],
   "source": [
    "# enter your code here\n",
    "pokemon[\"Combo Type\"] = pokemon[\"Type 1\"]+\" \"+pokemon[\"Type 2\"]\n",
    "pokemon.head()"
   ]
  },
  {
   "cell_type": "markdown",
   "metadata": {},
   "source": [
    "### Identify the pokemons whose `A/D Ratio` are among the top 5 "
   ]
  },
  {
   "cell_type": "code",
   "execution_count": 210,
   "metadata": {
    "ExecuteTime": {
     "end_time": "2020-07-26T21:10:26.360162Z",
     "start_time": "2020-07-26T21:10:26.354458Z"
    }
   },
   "outputs": [
    {
     "data": {
      "text/plain": [
       "429    DeoxysAttack Forme\n",
       "347              Carvanha\n",
       "19               Beedrill\n",
       "453              Cranidos\n",
       "348              Sharpedo\n",
       "Name: Name, dtype: object"
      ]
     },
     "execution_count": 210,
     "metadata": {},
     "output_type": "execute_result"
    }
   ],
   "source": [
    "# enter your code here\n",
    "pokemon.sort_values(by='A/D Ratio', ascending=False).Name.head(5)\n",
    "#pokemon[\"A/D Ratio\"].sort_values().head(5)"
   ]
  },
  {
   "cell_type": "code",
   "execution_count": 220,
   "metadata": {
    "ExecuteTime": {
     "end_time": "2020-07-26T21:16:29.909225Z",
     "start_time": "2020-07-26T21:16:29.903565Z"
    }
   },
   "outputs": [
    {
     "data": {
      "text/plain": [
       "429    DeoxysAttack Forme\n",
       "347              Carvanha\n",
       "19               Beedrill\n",
       "453              Cranidos\n",
       "348              Sharpedo\n",
       "Name: Name, dtype: object"
      ]
     },
     "execution_count": 220,
     "metadata": {},
     "output_type": "execute_result"
    }
   ],
   "source": [
    "#Aquí están los top 5 pokemon con más A/D ratio\n",
    "lostop5AD = pokemon.sort_values(by='A/D Ratio', ascending=False).Name.head(5)\n",
    "lostop5AD"
   ]
  },
  {
   "cell_type": "markdown",
   "metadata": {},
   "source": [
    "### For the 5 pokemons printed above, aggregate `Combo Type` and use a list to store the unique values.\n",
    "\n",
    "Your end product is a list containing the distinct `Combo Type` values of the 5 pokemons with the highest `A/D Ratio`."
   ]
  },
  {
   "cell_type": "code",
   "execution_count": 215,
   "metadata": {
    "ExecuteTime": {
     "end_time": "2020-07-26T21:11:16.172617Z",
     "start_time": "2020-07-26T21:11:16.167439Z"
    },
    "scrolled": false
   },
   "outputs": [
    {
     "data": {
      "text/plain": [
       "429           NaN\n",
       "347    Water Dark\n",
       "19     Bug Poison\n",
       "453           NaN\n",
       "348    Water Dark\n",
       "Name: Combo Type, dtype: object"
      ]
     },
     "execution_count": 215,
     "metadata": {},
     "output_type": "execute_result"
    }
   ],
   "source": [
    "lostop5CT = pokemon.sort_values(by='A/D Ratio', ascending=False)[\"Combo Type\"].head(5)\n",
    "lostop5CT"
   ]
  },
  {
   "cell_type": "code",
   "execution_count": 218,
   "metadata": {
    "ExecuteTime": {
     "end_time": "2020-07-26T21:12:11.591822Z",
     "start_time": "2020-07-26T21:12:11.588548Z"
    }
   },
   "outputs": [
    {
     "data": {
      "text/plain": [
       "[nan, 'Water Dark', 'Bug Poison', nan, 'Water Dark']"
      ]
     },
     "execution_count": 218,
     "metadata": {},
     "output_type": "execute_result"
    }
   ],
   "source": [
    "#ÉStos son los combo type correspondientes a los top 5 pokemons, aunque haya nans...\n",
    "top5CT = list(lostop5CT)\n",
    "top5CT"
   ]
  },
  {
   "cell_type": "markdown",
   "metadata": {},
   "source": [
    "### For each of the `Combo Type` values obtained from the previous question, calculate the mean scores of all numeric fields across all pokemons.\n",
    "\n",
    "Your output should look like below:\n",
    "\n",
    "![Aggregate](aggregated-mean.png)"
   ]
  },
  {
   "cell_type": "code",
   "execution_count": 232,
   "metadata": {
    "ExecuteTime": {
     "end_time": "2020-07-26T21:22:35.640203Z",
     "start_time": "2020-07-26T21:22:35.626005Z"
    }
   },
   "outputs": [
    {
     "data": {
      "text/html": [
       "<div>\n",
       "<style scoped>\n",
       "    .dataframe tbody tr th:only-of-type {\n",
       "        vertical-align: middle;\n",
       "    }\n",
       "\n",
       "    .dataframe tbody tr th {\n",
       "        vertical-align: top;\n",
       "    }\n",
       "\n",
       "    .dataframe thead th {\n",
       "        text-align: right;\n",
       "    }\n",
       "</style>\n",
       "<table border=\"1\" class=\"dataframe\">\n",
       "  <thead>\n",
       "    <tr style=\"text-align: right;\">\n",
       "      <th></th>\n",
       "      <th>#</th>\n",
       "      <th>Total</th>\n",
       "      <th>HP</th>\n",
       "      <th>Attack</th>\n",
       "      <th>Defense</th>\n",
       "      <th>Sp. Atk</th>\n",
       "      <th>Sp. Def</th>\n",
       "      <th>Speed</th>\n",
       "      <th>Generation</th>\n",
       "      <th>Legendary</th>\n",
       "      <th>Mega</th>\n",
       "      <th>A/D Ratio</th>\n",
       "    </tr>\n",
       "    <tr>\n",
       "      <th>Combo Type</th>\n",
       "      <th></th>\n",
       "      <th></th>\n",
       "      <th></th>\n",
       "      <th></th>\n",
       "      <th></th>\n",
       "      <th></th>\n",
       "      <th></th>\n",
       "      <th></th>\n",
       "      <th></th>\n",
       "      <th></th>\n",
       "      <th></th>\n",
       "      <th></th>\n",
       "    </tr>\n",
       "  </thead>\n",
       "  <tbody>\n",
       "    <tr>\n",
       "      <th>False</th>\n",
       "      <td>362.928212</td>\n",
       "      <td>434.658690</td>\n",
       "      <td>69.259446</td>\n",
       "      <td>78.691436</td>\n",
       "      <td>73.908060</td>\n",
       "      <td>72.698992</td>\n",
       "      <td>71.965995</td>\n",
       "      <td>68.134761</td>\n",
       "      <td>3.324937</td>\n",
       "      <td>0.081864</td>\n",
       "      <td>0.059194</td>\n",
       "      <td>1.156027</td>\n",
       "    </tr>\n",
       "    <tr>\n",
       "      <th>True</th>\n",
       "      <td>347.666667</td>\n",
       "      <td>493.833333</td>\n",
       "      <td>69.166667</td>\n",
       "      <td>120.000000</td>\n",
       "      <td>65.166667</td>\n",
       "      <td>88.833333</td>\n",
       "      <td>63.500000</td>\n",
       "      <td>87.166667</td>\n",
       "      <td>3.166667</td>\n",
       "      <td>0.000000</td>\n",
       "      <td>0.333333</td>\n",
       "      <td>2.291949</td>\n",
       "    </tr>\n",
       "  </tbody>\n",
       "</table>\n",
       "</div>"
      ],
      "text/plain": [
       "                     #       Total         HP      Attack    Defense  \\\n",
       "Combo Type                                                             \n",
       "False       362.928212  434.658690  69.259446   78.691436  73.908060   \n",
       "True        347.666667  493.833333  69.166667  120.000000  65.166667   \n",
       "\n",
       "              Sp. Atk    Sp. Def      Speed  Generation  Legendary      Mega  \\\n",
       "Combo Type                                                                     \n",
       "False       72.698992  71.965995  68.134761    3.324937   0.081864  0.059194   \n",
       "True        88.833333  63.500000  87.166667    3.166667   0.000000  0.333333   \n",
       "\n",
       "            A/D Ratio  \n",
       "Combo Type             \n",
       "False        1.156027  \n",
       "True         2.291949  "
      ]
     },
     "execution_count": 232,
     "metadata": {},
     "output_type": "execute_result"
    }
   ],
   "source": [
    "#Te sé sacar las medias de sólo un tipo de Combo Type:\n",
    "pokemon.groupby(pokemon[\"Combo Type\"] == \"Water Dark\").mean()"
   ]
  },
  {
   "cell_type": "code",
   "execution_count": 233,
   "metadata": {
    "ExecuteTime": {
     "end_time": "2020-07-26T21:22:39.586057Z",
     "start_time": "2020-07-26T21:22:39.569520Z"
    }
   },
   "outputs": [
    {
     "data": {
      "text/html": [
       "<div>\n",
       "<style scoped>\n",
       "    .dataframe tbody tr th:only-of-type {\n",
       "        vertical-align: middle;\n",
       "    }\n",
       "\n",
       "    .dataframe tbody tr th {\n",
       "        vertical-align: top;\n",
       "    }\n",
       "\n",
       "    .dataframe thead th {\n",
       "        text-align: right;\n",
       "    }\n",
       "</style>\n",
       "<table border=\"1\" class=\"dataframe\">\n",
       "  <thead>\n",
       "    <tr style=\"text-align: right;\">\n",
       "      <th></th>\n",
       "      <th>#</th>\n",
       "      <th>Total</th>\n",
       "      <th>HP</th>\n",
       "      <th>Attack</th>\n",
       "      <th>Defense</th>\n",
       "      <th>Sp. Atk</th>\n",
       "      <th>Sp. Def</th>\n",
       "      <th>Speed</th>\n",
       "      <th>Generation</th>\n",
       "      <th>Legendary</th>\n",
       "      <th>Mega</th>\n",
       "      <th>A/D Ratio</th>\n",
       "    </tr>\n",
       "    <tr>\n",
       "      <th>Combo Type</th>\n",
       "      <th></th>\n",
       "      <th></th>\n",
       "      <th></th>\n",
       "      <th></th>\n",
       "      <th></th>\n",
       "      <th></th>\n",
       "      <th></th>\n",
       "      <th></th>\n",
       "      <th></th>\n",
       "      <th></th>\n",
       "      <th></th>\n",
       "      <th></th>\n",
       "    </tr>\n",
       "  </thead>\n",
       "  <tbody>\n",
       "    <tr>\n",
       "      <th>Bug Electric</th>\n",
       "      <td>595.500000</td>\n",
       "      <td>395.500000</td>\n",
       "      <td>60.000000</td>\n",
       "      <td>62.000000</td>\n",
       "      <td>55.000000</td>\n",
       "      <td>77.000000</td>\n",
       "      <td>55.000000</td>\n",
       "      <td>86.500000</td>\n",
       "      <td>5.000000</td>\n",
       "      <td>0.0</td>\n",
       "      <td>0.000000</td>\n",
       "      <td>1.111667</td>\n",
       "    </tr>\n",
       "    <tr>\n",
       "      <th>Bug Fighting</th>\n",
       "      <td>214.000000</td>\n",
       "      <td>550.000000</td>\n",
       "      <td>80.000000</td>\n",
       "      <td>155.000000</td>\n",
       "      <td>95.000000</td>\n",
       "      <td>40.000000</td>\n",
       "      <td>100.000000</td>\n",
       "      <td>80.000000</td>\n",
       "      <td>2.000000</td>\n",
       "      <td>0.0</td>\n",
       "      <td>0.500000</td>\n",
       "      <td>1.637681</td>\n",
       "    </tr>\n",
       "    <tr>\n",
       "      <th>Bug Fire</th>\n",
       "      <td>636.500000</td>\n",
       "      <td>455.000000</td>\n",
       "      <td>70.000000</td>\n",
       "      <td>72.500000</td>\n",
       "      <td>60.000000</td>\n",
       "      <td>92.500000</td>\n",
       "      <td>80.000000</td>\n",
       "      <td>80.000000</td>\n",
       "      <td>5.000000</td>\n",
       "      <td>0.0</td>\n",
       "      <td>0.000000</td>\n",
       "      <td>1.234266</td>\n",
       "    </tr>\n",
       "    <tr>\n",
       "      <th>Bug Flying</th>\n",
       "      <td>286.285714</td>\n",
       "      <td>419.500000</td>\n",
       "      <td>63.000000</td>\n",
       "      <td>70.142857</td>\n",
       "      <td>61.571429</td>\n",
       "      <td>72.857143</td>\n",
       "      <td>69.071429</td>\n",
       "      <td>82.857143</td>\n",
       "      <td>2.857143</td>\n",
       "      <td>0.0</td>\n",
       "      <td>0.071429</td>\n",
       "      <td>1.146274</td>\n",
       "    </tr>\n",
       "    <tr>\n",
       "      <th>Bug Ghost</th>\n",
       "      <td>292.000000</td>\n",
       "      <td>236.000000</td>\n",
       "      <td>1.000000</td>\n",
       "      <td>90.000000</td>\n",
       "      <td>45.000000</td>\n",
       "      <td>30.000000</td>\n",
       "      <td>30.000000</td>\n",
       "      <td>40.000000</td>\n",
       "      <td>3.000000</td>\n",
       "      <td>0.0</td>\n",
       "      <td>0.000000</td>\n",
       "      <td>2.000000</td>\n",
       "    </tr>\n",
       "    <tr>\n",
       "      <th>...</th>\n",
       "      <td>...</td>\n",
       "      <td>...</td>\n",
       "      <td>...</td>\n",
       "      <td>...</td>\n",
       "      <td>...</td>\n",
       "      <td>...</td>\n",
       "      <td>...</td>\n",
       "      <td>...</td>\n",
       "      <td>...</td>\n",
       "      <td>...</td>\n",
       "      <td>...</td>\n",
       "      <td>...</td>\n",
       "    </tr>\n",
       "    <tr>\n",
       "      <th>Water Ice</th>\n",
       "      <td>103.000000</td>\n",
       "      <td>511.666667</td>\n",
       "      <td>90.000000</td>\n",
       "      <td>83.333333</td>\n",
       "      <td>113.333333</td>\n",
       "      <td>80.000000</td>\n",
       "      <td>78.333333</td>\n",
       "      <td>66.666667</td>\n",
       "      <td>1.000000</td>\n",
       "      <td>0.0</td>\n",
       "      <td>0.000000</td>\n",
       "      <td>0.821759</td>\n",
       "    </tr>\n",
       "    <tr>\n",
       "      <th>Water Poison</th>\n",
       "      <td>118.666667</td>\n",
       "      <td>426.666667</td>\n",
       "      <td>61.666667</td>\n",
       "      <td>68.333333</td>\n",
       "      <td>58.333333</td>\n",
       "      <td>61.666667</td>\n",
       "      <td>91.666667</td>\n",
       "      <td>85.000000</td>\n",
       "      <td>1.333333</td>\n",
       "      <td>0.0</td>\n",
       "      <td>0.000000</td>\n",
       "      <td>1.162149</td>\n",
       "    </tr>\n",
       "    <tr>\n",
       "      <th>Water Psychic</th>\n",
       "      <td>111.800000</td>\n",
       "      <td>481.000000</td>\n",
       "      <td>87.000000</td>\n",
       "      <td>73.000000</td>\n",
       "      <td>104.000000</td>\n",
       "      <td>94.000000</td>\n",
       "      <td>79.000000</td>\n",
       "      <td>44.000000</td>\n",
       "      <td>1.200000</td>\n",
       "      <td>0.0</td>\n",
       "      <td>0.200000</td>\n",
       "      <td>0.783668</td>\n",
       "    </tr>\n",
       "    <tr>\n",
       "      <th>Water Rock</th>\n",
       "      <td>430.000000</td>\n",
       "      <td>428.750000</td>\n",
       "      <td>70.750000</td>\n",
       "      <td>82.750000</td>\n",
       "      <td>112.750000</td>\n",
       "      <td>61.500000</td>\n",
       "      <td>65.000000</td>\n",
       "      <td>36.000000</td>\n",
       "      <td>3.750000</td>\n",
       "      <td>0.0</td>\n",
       "      <td>0.000000</td>\n",
       "      <td>0.727170</td>\n",
       "    </tr>\n",
       "    <tr>\n",
       "      <th>Water Steel</th>\n",
       "      <td>395.000000</td>\n",
       "      <td>530.000000</td>\n",
       "      <td>84.000000</td>\n",
       "      <td>86.000000</td>\n",
       "      <td>88.000000</td>\n",
       "      <td>111.000000</td>\n",
       "      <td>101.000000</td>\n",
       "      <td>60.000000</td>\n",
       "      <td>4.000000</td>\n",
       "      <td>0.0</td>\n",
       "      <td>0.000000</td>\n",
       "      <td>0.977273</td>\n",
       "    </tr>\n",
       "  </tbody>\n",
       "</table>\n",
       "<p>136 rows × 12 columns</p>\n",
       "</div>"
      ],
      "text/plain": [
       "                        #       Total         HP      Attack     Defense  \\\n",
       "Combo Type                                                                 \n",
       "Bug Electric   595.500000  395.500000  60.000000   62.000000   55.000000   \n",
       "Bug Fighting   214.000000  550.000000  80.000000  155.000000   95.000000   \n",
       "Bug Fire       636.500000  455.000000  70.000000   72.500000   60.000000   \n",
       "Bug Flying     286.285714  419.500000  63.000000   70.142857   61.571429   \n",
       "Bug Ghost      292.000000  236.000000   1.000000   90.000000   45.000000   \n",
       "...                   ...         ...        ...         ...         ...   \n",
       "Water Ice      103.000000  511.666667  90.000000   83.333333  113.333333   \n",
       "Water Poison   118.666667  426.666667  61.666667   68.333333   58.333333   \n",
       "Water Psychic  111.800000  481.000000  87.000000   73.000000  104.000000   \n",
       "Water Rock     430.000000  428.750000  70.750000   82.750000  112.750000   \n",
       "Water Steel    395.000000  530.000000  84.000000   86.000000   88.000000   \n",
       "\n",
       "                  Sp. Atk     Sp. Def      Speed  Generation  Legendary  \\\n",
       "Combo Type                                                                \n",
       "Bug Electric    77.000000   55.000000  86.500000    5.000000        0.0   \n",
       "Bug Fighting    40.000000  100.000000  80.000000    2.000000        0.0   \n",
       "Bug Fire        92.500000   80.000000  80.000000    5.000000        0.0   \n",
       "Bug Flying      72.857143   69.071429  82.857143    2.857143        0.0   \n",
       "Bug Ghost       30.000000   30.000000  40.000000    3.000000        0.0   \n",
       "...                   ...         ...        ...         ...        ...   \n",
       "Water Ice       80.000000   78.333333  66.666667    1.000000        0.0   \n",
       "Water Poison    61.666667   91.666667  85.000000    1.333333        0.0   \n",
       "Water Psychic   94.000000   79.000000  44.000000    1.200000        0.0   \n",
       "Water Rock      61.500000   65.000000  36.000000    3.750000        0.0   \n",
       "Water Steel    111.000000  101.000000  60.000000    4.000000        0.0   \n",
       "\n",
       "                   Mega  A/D Ratio  \n",
       "Combo Type                          \n",
       "Bug Electric   0.000000   1.111667  \n",
       "Bug Fighting   0.500000   1.637681  \n",
       "Bug Fire       0.000000   1.234266  \n",
       "Bug Flying     0.071429   1.146274  \n",
       "Bug Ghost      0.000000   2.000000  \n",
       "...                 ...        ...  \n",
       "Water Ice      0.000000   0.821759  \n",
       "Water Poison   0.000000   1.162149  \n",
       "Water Psychic  0.200000   0.783668  \n",
       "Water Rock     0.000000   0.727170  \n",
       "Water Steel    0.000000   0.977273  \n",
       "\n",
       "[136 rows x 12 columns]"
      ]
     },
     "execution_count": 233,
     "metadata": {},
     "output_type": "execute_result"
    }
   ],
   "source": [
    "#O de todos los Combo Types:\n",
    "pokemon.groupby(\"Combo Type\").mean()"
   ]
  },
  {
   "cell_type": "code",
   "execution_count": null,
   "metadata": {},
   "outputs": [],
   "source": [
    "#Pero no sólamente de los de los top 5  :("
   ]
  }
 ],
 "metadata": {
  "kernelspec": {
   "display_name": "Python 3",
   "language": "python",
   "name": "python3"
  },
  "language_info": {
   "codemirror_mode": {
    "name": "ipython",
    "version": 3
   },
   "file_extension": ".py",
   "mimetype": "text/x-python",
   "name": "python",
   "nbconvert_exporter": "python",
   "pygments_lexer": "ipython3",
   "version": "3.7.6"
  },
  "latex_envs": {
   "LaTeX_envs_menu_present": true,
   "autoclose": false,
   "autocomplete": true,
   "bibliofile": "biblio.bib",
   "cite_by": "apalike",
   "current_citInitial": 1,
   "eqLabelWithNumbers": true,
   "eqNumInitial": 1,
   "hotkeys": {
    "equation": "Ctrl-E",
    "itemize": "Ctrl-I"
   },
   "labels_anchors": false,
   "latex_user_defs": false,
   "report_style_numbering": false,
   "user_envs_cfg": false
  },
  "toc": {
   "base_numbering": 1,
   "nav_menu": {},
   "number_sections": true,
   "sideBar": true,
   "skip_h1_title": false,
   "title_cell": "Table of Contents",
   "title_sidebar": "Contents",
   "toc_cell": true,
   "toc_position": {},
   "toc_section_display": true,
   "toc_window_display": false
  },
  "varInspector": {
   "cols": {
    "lenName": 16,
    "lenType": 16,
    "lenVar": 40
   },
   "kernels_config": {
    "python": {
     "delete_cmd_postfix": "",
     "delete_cmd_prefix": "del ",
     "library": "var_list.py",
     "varRefreshCmd": "print(var_dic_list())"
    },
    "r": {
     "delete_cmd_postfix": ") ",
     "delete_cmd_prefix": "rm(",
     "library": "var_list.r",
     "varRefreshCmd": "cat(var_dic_list()) "
    }
   },
   "types_to_exclude": [
    "module",
    "function",
    "builtin_function_or_method",
    "instance",
    "_Feature"
   ],
   "window_display": false
  }
 },
 "nbformat": 4,
 "nbformat_minor": 2
}
